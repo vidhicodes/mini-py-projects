{
 "cells": [
  {
   "cell_type": "markdown",
   "id": "9747b752-b22f-4d58-b334-e7fbc75186c7",
   "metadata": {},
   "source": [
    "# Automated File Sorter in File Explorer"
   ]
  },
  {
   "cell_type": "code",
   "execution_count": 1,
   "id": "c774a75a-29ef-4f88-9536-3c43eca3cea6",
   "metadata": {},
   "outputs": [],
   "source": [
    "import os,shutil"
   ]
  },
  {
   "cell_type": "code",
   "execution_count": 2,
   "id": "b3f6f91a-2b75-46db-b007-9c151f6f5a7b",
   "metadata": {},
   "outputs": [],
   "source": [
    "path = r\"D:/DA/Automated File Sorter Project/\" ## enter your path here"
   ]
  },
  {
   "cell_type": "code",
   "execution_count": 8,
   "id": "0a21d198-3c51-41ad-89aa-94bcf8a60e0f",
   "metadata": {},
   "outputs": [],
   "source": [
    "file_names = os.listdir(path)"
   ]
  },
  {
   "cell_type": "code",
   "execution_count": 9,
   "id": "64107d17-c453-4f11-85f0-36c7de147bb1",
   "metadata": {},
   "outputs": [],
   "source": [
    "folder_names = [\"csv files\",\"jpg files\",\"txt files\"] "
   ]
  },
  {
   "cell_type": "code",
   "execution_count": 22,
   "id": "f2ed8da2-67ca-4947-9fac-7c9141e0a40e",
   "metadata": {},
   "outputs": [],
   "source": [
    "for i in range(0,len(folder_names)):\n",
    "    if not(os.path.exists(path+folder_names[i])):\n",
    "        os.makedirs(path+folder_names[i])\n",
    "\n",
    "for file in file_names:\n",
    "    if \".csv\" in file and not os.path.exists(path+\"csv files/\"+file):\n",
    "        shutil.move(path+file,path+\"csv files/\"+file)\n",
    "        \n",
    "    elif \".jpg\" in file and not os.path.exists(path+\"jpg files/\"+file):\n",
    "        shutil.move(path+file,path+\"jpg files/\"+file)\n",
    "\n",
    "    elif \".txt\" in file and not os.path.exists(path+\"txt files/\"+file):\n",
    "        shutil.move(path+file,path+\"txt files/\"+file)\n",
    "    "
   ]
  },
  {
   "cell_type": "code",
   "execution_count": null,
   "id": "018f4eae-d1ec-4829-b3a4-34c4f0e6fba6",
   "metadata": {},
   "outputs": [],
   "source": []
  }
 ],
 "metadata": {
  "kernelspec": {
   "display_name": "Python 3 (ipykernel)",
   "language": "python",
   "name": "python3"
  },
  "language_info": {
   "codemirror_mode": {
    "name": "ipython",
    "version": 3
   },
   "file_extension": ".py",
   "mimetype": "text/x-python",
   "name": "python",
   "nbconvert_exporter": "python",
   "pygments_lexer": "ipython3",
   "version": "3.12.4"
  }
 },
 "nbformat": 4,
 "nbformat_minor": 5
}
